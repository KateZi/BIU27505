{
 "cells": [
  {
   "cell_type": "markdown",
   "metadata": {},
   "source": [
    "# SDA - lecture 1 - Introduction"
   ]
  },
  {
   "cell_type": "code",
   "execution_count": 2,
   "metadata": {},
   "outputs": [],
   "source": [
    "import math\n",
    "import numpy as np\n",
    "import matplotlib.pyplot as plt\n",
    "\n",
    "%matplotlib widget\n",
    "# %matplotlib inline\n",
    "\n",
    "import ipywidgets as widgets\n",
    "\n",
    "%config InlineBackend.figure_format = 'retina'\n",
    "plt.style.use(\"https://raw.githubusercontent.com/NeuromatchAcademy/course-content/master/nma.mplstyle\")"
   ]
  },
  {
   "cell_type": "markdown",
   "metadata": {},
   "source": [
    "## Dirac's delta\n",
    "\n",
    "$ \\delta(x) = lim_{\\sigma \\to 0}\\delta_\\sigma(x) $\n",
    "\n",
    "$ \\delta_\\sigma(x) = \\frac{1}{\\sigma \\sqrt{\\pi}}e^{-\\frac{x^{2}}{\\sigma^{2}}} $"
   ]
  },
  {
   "cell_type": "code",
   "execution_count": 2,
   "metadata": {},
   "outputs": [
    {
     "data": {
      "application/vnd.jupyter.widget-view+json": {
       "model_id": "287fe727cc6c4568b30e950b2566b808",
       "version_major": 2,
       "version_minor": 0
      },
      "text/plain": [
       "interactive(children=(FloatSlider(value=0.5, description='sigma', max=1.0, min=0.05, step=0.05), Output()), _d…"
      ]
     },
     "metadata": {},
     "output_type": "display_data"
    }
   ],
   "source": [
    "def ddelta(r, sigma = 1):\n",
    "    return np.exp(-r**2/sigma**2) / (sigma * np.sqrt(math.pi))\n",
    "\n",
    "def interactive_plot_delta(sigma):\n",
    "    r = np.arange(-2, 2, .01)\n",
    "    fig, ax = plt.subplots(figsize=(4,4), nrows=1, ncols=1)\n",
    "    ax.plot(r, ddelta(r, sigma),label=f'\\u03C3={sigma}')\n",
    "    ax.set_ylim(0,10)\n",
    "    ax.grid()\n",
    "\n",
    "_ = widgets.interact(interactive_plot_delta, sigma=(0.05,1,0.05))\n",
    "    "
   ]
  },
  {
   "cell_type": "markdown",
   "metadata": {},
   "source": [
    "### Dirac's delta could also be other kinds of functions, such as a square function"
   ]
  },
  {
   "cell_type": "code",
   "execution_count": 3,
   "metadata": {},
   "outputs": [
    {
     "data": {
      "application/vnd.jupyter.widget-view+json": {
       "model_id": "b052ca50bd2f46c79945d2cccbbf67a4",
       "version_major": 2,
       "version_minor": 0
      },
      "text/plain": [
       "interactive(children=(FloatSlider(value=0.5, description='eps', max=1.0, min=0.05, step=0.05), Output()), _dom…"
      ]
     },
     "metadata": {},
     "output_type": "display_data"
    }
   ],
   "source": [
    "def square_dirac(r, eps=.1):\n",
    "    func = np.zeros(len(r))\n",
    "    func[r>-eps/2] = 1/eps\n",
    "    func[r>eps/2] = 0\n",
    "    return func\n",
    "    \n",
    "def interactive_plot_delta(eps):\n",
    "    r = np.arange(-2, 2, .01)\n",
    "    fig, ax = plt.subplots(figsize=(4,4), nrows=1, ncols=1)\n",
    "    ax.plot(r, square_dirac(r, eps),label=f'\\u03C3={eps}')\n",
    "    ax.set_ylim(0,10)\n",
    "    ax.grid()\n",
    "\n",
    "_ = widgets.interact(interactive_plot_delta, eps=(0.05,1,0.05))"
   ]
  },
  {
   "cell_type": "markdown",
   "metadata": {},
   "source": [
    "#### what would be the mathematical expression to represent this delta function?"
   ]
  },
  {
   "cell_type": "markdown",
   "metadata": {},
   "source": [
    "### Sampling a signal\n",
    "Sampling a signal at different frequenies leads to a distortion of the original signal at low smapling frequencies (Nyquist)"
   ]
  },
  {
   "cell_type": "code",
   "execution_count": 4,
   "metadata": {},
   "outputs": [
    {
     "data": {
      "application/vnd.jupyter.widget-view+json": {
       "model_id": "8ecdb426b7f44619af2183ec0c1dd434",
       "version_major": 2,
       "version_minor": 0
      },
      "text/plain": [
       "interactive(children=(FloatSlider(value=2.5000000000000004, description='samp', max=5.0, min=0.1, step=0.2), O…"
      ]
     },
     "metadata": {},
     "output_type": "display_data"
    }
   ],
   "source": [
    "def interactive_plot_sampling(samp):\n",
    "    fig, ax = plt.subplots(figsize=(12,4), nrows=1, ncols=1)\n",
    "    r = np.arange(0, 8*math.pi, .01)\n",
    "    v = np.sin(r)\n",
    "    ax.plot(r,v,linewidth=0.7)\n",
    "    rsamp = np.arange(0, 8*math.pi, samp)\n",
    "    vsamp = np.sin(rsamp)\n",
    "    ax.plot(rsamp,vsamp,'*:')\n",
    "    ax.set_title(f'Sample: {samp}')\n",
    "\n",
    "_ = widgets.interact(interactive_plot_sampling, samp=(0.1,5,0.2))                 "
   ]
  },
  {
   "cell_type": "markdown",
   "metadata": {},
   "source": [
    "### what is a good sampling frequency? try and find a rule\n",
    "\n",
    "### test your rule on the following function, explain the results"
   ]
  },
  {
   "cell_type": "code",
   "execution_count": 69,
   "metadata": {},
   "outputs": [
    {
     "data": {
      "application/vnd.jupyter.widget-view+json": {
       "model_id": "73eba476e8f3471791f40804eaf60989",
       "version_major": 2,
       "version_minor": 0
      },
      "text/plain": [
       "interactive(children=(FloatSlider(value=4.0, description='samp', max=8.0, min=0.1), Output()), _dom_classes=('…"
      ]
     },
     "metadata": {},
     "output_type": "display_data"
    }
   ],
   "source": [
    "def interactive_plot_sampling(samp):\n",
    "    fig, ax = plt.subplots(figsize=(12,4), nrows=1, ncols=1)\n",
    "    r = np.arange(0, 30*math.pi, .01)\n",
    "    v = np.sin(r) + np.cos(r/10)*2\n",
    "    ax.plot(r,v,linewidth=0.7)\n",
    "    rsamp = np.arange(0, 30*math.pi, samp)\n",
    "    vsamp = np.sin(rsamp) + np.cos(rsamp/10)*2\n",
    "    ax.plot(rsamp,vsamp,'*:')\n",
    "    ax.set_title(f'Sample: {samp}')\n",
    "\n",
    "_ = widgets.interact(interactive_plot_sampling, samp=(0.1,8,0.1))    "
   ]
  },
  {
   "cell_type": "markdown",
   "metadata": {},
   "source": [
    "consider what happens when the sampling frequecncy is low, what does it capture and what does it miss?"
   ]
  },
  {
   "cell_type": "markdown",
   "metadata": {},
   "source": [
    "### Quantizing a signal\n",
    "\n",
    "$ n_{bits} =log_2\\frac{range}{resolution} $,       $  resolution = \\frac{range}{2^{n_{bits}}}$\n",
    "\n",
    "can you calculate the resolution for the following?"
   ]
  },
  {
   "cell_type": "code",
   "execution_count": 5,
   "metadata": {},
   "outputs": [
    {
     "data": {
      "application/vnd.jupyter.widget-view+json": {
       "model_id": "d71d26c288ac48b08c417fb1dcd10181",
       "version_major": 2,
       "version_minor": 0
      },
      "text/plain": [
       "interactive(children=(Dropdown(description='quant', options=(1, 2, 4, 8, 16), value=1), Output()), _dom_classe…"
      ]
     },
     "metadata": {},
     "output_type": "display_data"
    }
   ],
   "source": [
    "def interactive_plot_quantify(quant):\n",
    "    fig, ax = plt.subplots(figsize=(12,4), nrows=1, ncols=1)\n",
    "    r = np.arange(0, 8*math.pi, .01)\n",
    "    v = (np.sin(r)+1)/2\n",
    "    ax.plot(r,v,linewidth=0.7)\n",
    "    vals = 2 ** quant\n",
    "    q = np.floor(v * vals)/(vals-1)\n",
    "    ax.plot(r,q)\n",
    "    ax.set_title(f'Use {quant} bits')\n",
    "\n",
    "_ = widgets.interact(interactive_plot_quantify, quant=([1,2,4,8,16]))"
   ]
  },
  {
   "cell_type": "markdown",
   "metadata": {},
   "source": [
    "### observe the following function:"
   ]
  },
  {
   "cell_type": "code",
   "execution_count": 13,
   "metadata": {},
   "outputs": [
    {
     "name": "stderr",
     "output_type": "stream",
     "text": [
      "<ipython-input-13-b4d6f347f80d>:1: RuntimeWarning: More than 20 figures have been opened. Figures created through the pyplot interface (`matplotlib.pyplot.figure`) are retained until explicitly closed and may consume too much memory. (To control this warning, see the rcParam `figure.max_open_warning`).\n",
      "  fig, ax = plt.subplots(figsize=(12,4), nrows=1, ncols=1)\n"
     ]
    },
    {
     "data": {
      "application/vnd.jupyter.widget-view+json": {
       "model_id": "fb3cb213a7bc45bd97382b0a2ea8a356",
       "version_major": 2,
       "version_minor": 0
      },
      "text/plain": [
       "Canvas(toolbar=Toolbar(toolitems=[('Home', 'Reset original view', 'home', 'home'), ('Back', 'Back to previous …"
      ]
     },
     "metadata": {},
     "output_type": "display_data"
    },
    {
     "data": {
      "text/plain": [
       "[<matplotlib.lines.Line2D at 0x175062790d0>]"
      ]
     },
     "execution_count": 13,
     "metadata": {},
     "output_type": "execute_result"
    }
   ],
   "source": [
    "fig, ax = plt.subplots(figsize=(12,4), nrows=1, ncols=1)\n",
    "r = np.arange(0, 8*math.pi, .01)\n",
    "v = (np.arctan(r)+1)*20\n",
    "ax.plot(r,v,linewidth=0.7)"
   ]
  },
  {
   "cell_type": "code",
   "execution_count": null,
   "metadata": {},
   "outputs": [],
   "source": [
    "### bad quantization, what happens when quantization is incorrect?"
   ]
  },
  {
   "cell_type": "code",
   "execution_count": 7,
   "metadata": {},
   "outputs": [
    {
     "data": {
      "application/vnd.jupyter.widget-view+json": {
       "model_id": "3708f2e25e354d5eb6d2d770df632dac",
       "version_major": 2,
       "version_minor": 0
      },
      "text/plain": [
       "interactive(children=(Dropdown(description='quant', options=(1, 2, 4, 8, 16), value=1), IntSlider(value=3, des…"
      ]
     },
     "metadata": {},
     "output_type": "display_data"
    }
   ],
   "source": [
    "def quantify(func, vals):\n",
    "    q = [vals[np.argmin(np.abs(i-vals))] for i in func]\n",
    "    return q\n",
    "\n",
    "def interactive_plot_quantify(quant, q_range, amp):\n",
    "    fig, ax = plt.subplots(figsize=(12,4), nrows=1, ncols=1)\n",
    "    r = np.arange(0, 8*math.pi, .01)\n",
    "    v = (np.sin(r)+1)/2 * amp\n",
    "    ax.plot(r,v,linewidth=0.7)\n",
    "    vals = np.linspace(0, q_range, quant**2)\n",
    "    q = quantify(v, vals)\n",
    "    ax.plot(r,q)\n",
    "    ax.set_title(f'Use {quant} bits')\n",
    "\n",
    "_ = widgets.interact(interactive_plot_quantify, quant=([1,2,4,8,16]), q_range = (1,5,1), amp=(0.5,5,0.5))"
   ]
  },
  {
   "cell_type": "markdown",
   "metadata": {},
   "source": [
    "### how many bits would you need to optimally quanitize it?"
   ]
  }
 ],
 "metadata": {
  "kernelspec": {
   "display_name": "Python 3",
   "language": "python",
   "name": "python3"
  },
  "language_info": {
   "codemirror_mode": {
    "name": "ipython",
    "version": 3
   },
   "file_extension": ".py",
   "mimetype": "text/x-python",
   "name": "python",
   "nbconvert_exporter": "python",
   "pygments_lexer": "ipython3",
   "version": "3.8.3"
  }
 },
 "nbformat": 4,
 "nbformat_minor": 4
}
