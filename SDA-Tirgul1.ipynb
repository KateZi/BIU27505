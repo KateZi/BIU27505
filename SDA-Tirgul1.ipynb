{
 "cells": [
  {
   "cell_type": "markdown",
   "metadata": {},
   "source": [
    "# SDA - recitation 1"
   ]
  },
  {
   "cell_type": "code",
   "execution_count": 26,
   "metadata": {},
   "outputs": [],
   "source": [
    "import math\n",
    "import numpy as np\n",
    "import matplotlib.pyplot as plt\n",
    "import scipy.signal as sig\n",
    "# %matplotlib widget\n",
    "%matplotlib inline\n",
    "\n",
    "import ipywidgets as widgets\n",
    "\n",
    "%config InlineBackend.figure_format = 'retina'\n",
    "plt.style.use(\"https://raw.githubusercontent.com/NeuromatchAcademy/course-content/master/nma.mplstyle\")"
   ]
  },
  {
   "cell_type": "markdown",
   "metadata": {},
   "source": [
    "## Dirac's delta\n",
    "\n",
    "$ \\delta(x) = lim_{\\sigma \\to 0}\\delta_\\sigma(x) $\n",
    "\n",
    "$ \\delta_\\sigma(x) = \\frac{1}{\\sigma \\sqrt{\\pi}}e^{-\\frac{x^{2}}{\\sigma^{2}}} $"
   ]
  },
  {
   "cell_type": "code",
   "execution_count": 5,
   "metadata": {},
   "outputs": [
    {
     "data": {
      "application/vnd.jupyter.widget-view+json": {
       "model_id": "b1f3ce09187e4b24a2fcf39c99ca039c",
       "version_major": 2,
       "version_minor": 0
      },
      "text/plain": [
       "interactive(children=(FloatSlider(value=0.5, description='sigma', max=1.0, min=0.05, step=0.05), Output()), _d…"
      ]
     },
     "metadata": {},
     "output_type": "display_data"
    }
   ],
   "source": [
    "def ddelta(r, sigma = 1):\n",
    "    return np.exp(-r**2/sigma**2) / (sigma * np.sqrt(math.pi))\n",
    "\n",
    "def interactive_plot_delta(sigma):\n",
    "    r = np.arange(-2, 2, .01)\n",
    "    fig, ax = plt.subplots(figsize=(4,4), nrows=1, ncols=1)\n",
    "    ax.plot(r, ddelta(r, sigma),label=f'\\u03C3={sigma}')\n",
    "    ax.set_ylim(0,10)\n",
    "    ax.grid()\n",
    "    \n",
    "    \n",
    "\n",
    "_ = widgets.interact(interactive_plot_delta, sigma=(0.05,1,0.05))\n",
    "    "
   ]
  },
  {
   "cell_type": "markdown",
   "metadata": {},
   "source": [
    "### Other functions can also be used to represent Dirac's delta, such as a square function:"
   ]
  },
  {
   "cell_type": "code",
   "execution_count": 6,
   "metadata": {},
   "outputs": [
    {
     "data": {
      "application/vnd.jupyter.widget-view+json": {
       "model_id": "962bf916edf046ad86769337f3ebb810",
       "version_major": 2,
       "version_minor": 0
      },
      "text/plain": [
       "interactive(children=(FloatSlider(value=0.5, description='eps', max=1.0, min=0.05, step=0.05), Output()), _dom…"
      ]
     },
     "metadata": {},
     "output_type": "display_data"
    }
   ],
   "source": [
    "def square_dirac(r, eps=.1):\n",
    "    func = np.zeros(len(r))\n",
    "    func[r>-eps/2] = 1/eps\n",
    "    func[r>eps/2] = 0\n",
    "    return func\n",
    "    \n",
    "def interactive_plot_delta(eps):\n",
    "    r = np.arange(-2, 2, .01)\n",
    "    fig, ax = plt.subplots(figsize=(4,4), nrows=1, ncols=1)\n",
    "    ax.plot(r, square_dirac(r, eps),label=f'\\u03C3={eps}')\n",
    "    ax.set_ylim(0,10)\n",
    "    ax.grid()\n",
    "\n",
    "_ = widgets.interact(interactive_plot_delta, eps=(0.05,1,0.05))"
   ]
  },
  {
   "cell_type": "markdown",
   "metadata": {},
   "source": [
    "#### the durac delta function can be used to analytically represent the sampling of a signal"
   ]
  },
  {
   "cell_type": "markdown",
   "metadata": {},
   "source": [
    "### Sampling a signal\n",
    "Sampling a signal at different frequenies leads to a distortion of the original signal at low smapling frequencies (Nyquist)"
   ]
  },
  {
   "cell_type": "code",
   "execution_count": 7,
   "metadata": {},
   "outputs": [
    {
     "data": {
      "application/vnd.jupyter.widget-view+json": {
       "model_id": "c9f64cf85054420eaec94dd0f43c4fad",
       "version_major": 2,
       "version_minor": 0
      },
      "text/plain": [
       "interactive(children=(FloatSlider(value=2.5000000000000004, description='samp', max=5.0, min=0.1, step=0.2), O…"
      ]
     },
     "metadata": {},
     "output_type": "display_data"
    }
   ],
   "source": [
    "def interactive_plot_sampling(samp):\n",
    "    fig, ax = plt.subplots(figsize=(12,4), nrows=1, ncols=1)\n",
    "    r = np.arange(0, 8*math.pi, .01)\n",
    "    v = np.sin(r)\n",
    "    ax.plot(r,v,linewidth=0.7)\n",
    "    rsamp = np.arange(0, 8*math.pi, samp)\n",
    "    vsamp = np.sin(rsamp)\n",
    "    ax.plot(rsamp,vsamp,'*:')\n",
    "    ax.set_title(f'Sample: {samp}')\n",
    "\n",
    "_ = widgets.interact(interactive_plot_sampling, samp=(0.1,5,0.2))                 "
   ]
  },
  {
   "cell_type": "markdown",
   "metadata": {},
   "source": [
    "### what is a good sampling frequency? try and find a rule\n",
    "\n",
    "### test your rule on the following function, explain the results"
   ]
  },
  {
   "cell_type": "code",
   "execution_count": 8,
   "metadata": {},
   "outputs": [
    {
     "data": {
      "application/vnd.jupyter.widget-view+json": {
       "model_id": "491c72bf943c43998232a123e5c59cea",
       "version_major": 2,
       "version_minor": 0
      },
      "text/plain": [
       "interactive(children=(FloatSlider(value=4.0, description='samp', max=8.0, min=0.1), Output()), _dom_classes=('…"
      ]
     },
     "metadata": {},
     "output_type": "display_data"
    }
   ],
   "source": [
    "def interactive_plot_sampling(samp):\n",
    "    \n",
    "    fig, ax = plt.subplots(figsize=(12,4), nrows=1, ncols=1)\n",
    "    r = np.arange(0, 30*math.pi, .01)\n",
    "    v = np.sin(r) + np.cos(r/10)*2\n",
    "    ax.plot(r,v,linewidth=0.7)\n",
    "    rsamp = np.arange(0, 30*math.pi, samp)\n",
    "    vsamp = np.sin(rsamp) + np.cos(rsamp/10)*2\n",
    "    ax.plot(rsamp,vsamp,'*:')\n",
    "    ax.set_title(f'Sample: {samp}')\n",
    "\n",
    "_ = widgets.interact(interactive_plot_sampling, samp=(0.1,8,0.1))    "
   ]
  },
  {
   "cell_type": "markdown",
   "metadata": {},
   "source": [
    "consider what happens when the sampling frequecncy is low, what does it capture and what does it miss?"
   ]
  },
  {
   "cell_type": "markdown",
   "metadata": {},
   "source": [
    "### Quantizing a signal\n",
    "\n",
    "$ n_{bits} =log_2\\frac{range}{resolution} $,       $  resolution = \\frac{range}{2^{n_{bits}}}$\n",
    "\n",
    "can you calculate the resolution for the following?"
   ]
  },
  {
   "cell_type": "code",
   "execution_count": 9,
   "metadata": {},
   "outputs": [
    {
     "data": {
      "application/vnd.jupyter.widget-view+json": {
       "model_id": "4567168f5606463cbc1a7d4966db2e35",
       "version_major": 2,
       "version_minor": 0
      },
      "text/plain": [
       "interactive(children=(Dropdown(description='quant', options=(1, 2, 4, 8, 16), value=1), Output()), _dom_classe…"
      ]
     },
     "metadata": {},
     "output_type": "display_data"
    }
   ],
   "source": [
    "def interactive_plot_quantify(quant):\n",
    "    fig, ax = plt.subplots(figsize=(12,4), nrows=1, ncols=1)\n",
    "    r = np.arange(0, 8*math.pi, .01)\n",
    "    v = (np.sin(r)+1)/2\n",
    "    ax.plot(r,v,linewidth=0.7)\n",
    "    vals = 2 ** quant\n",
    "    q = np.floor(v * vals)/(vals-1)\n",
    "    ax.plot(r,q)\n",
    "    ax.set_title(f'Use {quant} bits')\n",
    "\n",
    "_ = widgets.interact(interactive_plot_quantify, quant=([1,2,4,8,16]))"
   ]
  },
  {
   "cell_type": "code",
   "execution_count": 10,
   "metadata": {},
   "outputs": [],
   "source": [
    "### bad quantization, what happens when quantization is incorrect?"
   ]
  },
  {
   "cell_type": "code",
   "execution_count": 31,
   "metadata": {},
   "outputs": [
    {
     "data": {
      "application/vnd.jupyter.widget-view+json": {
       "model_id": "60a6e7a20d2a4b398ffd7423a5c0915d",
       "version_major": 2,
       "version_minor": 0
      },
      "text/plain": [
       "interactive(children=(Dropdown(description='quant', options=(1, 2, 4, 8, 16), value=1), IntSlider(value=5, des…"
      ]
     },
     "metadata": {},
     "output_type": "display_data"
    }
   ],
   "source": [
    "def quantify(func, vals):\n",
    "    q = [vals[np.argmin(np.abs(i-vals))] for i in func]\n",
    "    return q\n",
    "\n",
    "def interactive_plot_quantify(quant, q_range, amp):\n",
    "    fig, ax = plt.subplots(figsize=(12,4), nrows=1, ncols=1)\n",
    "    r = np.arange(0, 8*math.pi, .01)\n",
    "    v = (np.sin(r)+1)/2 * amp\n",
    "    ax.plot(r,v,linewidth=0.7)\n",
    "    vals = np.linspace(0, q_range, quant**2)\n",
    "    q = quantify(v, vals)\n",
    "    ax.plot(r,q)\n",
    "    ax.set_title(f'Use {quant} bits, range: 0 - {q_range}, signal amplified by a factor of {amp}')\n",
    "\n",
    "_ = widgets.interact(interactive_plot_quantify, quant=([1,2,4,8,16]), q_range = (1,10,1), amp=(1,11,1))"
   ]
  },
  {
   "cell_type": "markdown",
   "metadata": {},
   "source": [
    "### how many bits would you need to optimally quanitize it?"
   ]
  },
  {
   "cell_type": "markdown",
   "metadata": {},
   "source": [
    "## stochastic processes:\n",
    "\n",
    "### for each of the following stochastic processes determine whether they are stationary and ergodic?\n",
    "\n",
    "#### 1) Rolling standard dice\n",
    "#### 2) Rolling biased dice\n",
    "#### 3) inerchangeably rolling a standard and a biased dice \n",
    "#### 4) Gaussian noise\n",
    "\n",
    "#### is there a way to make non-stationary data, stationary?\n",
    "\n"
   ]
  },
  {
   "cell_type": "markdown",
   "metadata": {},
   "source": [
    "### spiking activities, point processes and time series"
   ]
  },
  {
   "cell_type": "code",
   "execution_count": 37,
   "metadata": {},
   "outputs": [
    {
     "data": {
      "image/png": "[encoded data removed]",
      "text/plain": [
       "<Figure size 864x288 with 1 Axes>"
      ]
     },
     "metadata": {
      "image/png": {
       "height": 270,
       "width": 845
      },
      "needs_background": "light"
     },
     "output_type": "display_data"
    }
   ],
   "source": [
    "# Generate a \"spike train\" of a simulated Poisson neuron \n",
    "\n",
    "samp = 1000\n",
    "rate = 20 / samp\n",
    "duration = 5\n",
    "\n",
    "spk_array = (np.random.uniform(size=samp*duration)<rate).astype(np.int32)\n",
    "time_array = np.arange(0, duration, 1/samp)\n",
    "# spk_array.shape\n",
    "fig, ax = plt.subplots(figsize=(12,4), nrows=1, ncols=1)\n",
    "ax.eventplot(np.nonzero(spk_array))\n",
    "__ = ax.set_xticklabels(np.arange(-1,6))\n",
    "__ = ax.set_title('spike train')\n"
   ]
  },
  {
   "cell_type": "markdown",
   "metadata": {},
   "source": [
    "## binning to calculate firing rate"
   ]
  },
  {
   "cell_type": "code",
   "execution_count": 50,
   "metadata": {},
   "outputs": [
    {
     "data": {
      "application/vnd.jupyter.widget-view+json": {
       "model_id": "b73684a9db864ac0a812eba00b98fea6",
       "version_major": 2,
       "version_minor": 0
      },
      "text/plain": [
       "interactive(children=(IntSlider(value=71, description='bin_size', max=150, min=1, step=5), Output()), _dom_cla…"
      ]
     },
     "metadata": {},
     "output_type": "display_data"
    }
   ],
   "source": [
    "def binned_rate(bin_size):\n",
    "    binned = np.zeros(len(spk_array))\n",
    "    for i in np.arange(0,len(spk_array),bin_size):\n",
    "        binned[i:i+bin_size] = sum(spk_array[i:(i+bin_size)]) / (bin_size/1000)\n",
    "    fig, ax = plt.subplots(figsize=(12,4), nrows=1, ncols=1)\n",
    "    ax.plot(time_array, np.array(binned))\n",
    "#     __ = ax.set_xticklabels(np.arange(-1,6))\n",
    "    __ = ax.set_xlabel('Time(s)')\n",
    "    __ = ax.set_ylabel('firing rate(sp/s)')\n",
    "    __ = ax.set_title('Binned spike train')\n",
    "    \n",
    "    \n",
    "_ = widgets.interact(binned_rate, bin_size = (1,150,5))"
   ]
  },
  {
   "cell_type": "markdown",
   "metadata": {},
   "source": [
    "### definition - convolution:\n",
    "#### $ continous: f(f * g)(t) = \\int_{}^{} f(\\tau)g(t-\\tau)d(\\tau) $\n",
    "#### $ discrete: f(f * g)(m) = \\sum_{n}^{} f(n)g(m-n) $\n",
    "\n",
    "#### it is the sum/intgral of the the product of two function when the second is flipped and shifted across the first"
   ]
  },
  {
   "cell_type": "code",
   "execution_count": 25,
   "metadata": {},
   "outputs": [
    {
     "data": {
      "text/plain": [
       "array([0. , 1. , 2.5, 4. , 1.5])"
      ]
     },
     "execution_count": 25,
     "metadata": {},
     "output_type": "execute_result"
    }
   ],
   "source": [
    "# convolution example:\n",
    "np.convolve([1, 2, 3], [0, 1, 0.5])"
   ]
  },
  {
   "cell_type": "markdown",
   "metadata": {},
   "source": [
    "### using convolution with a guassian window to calculate firing rate over time"
   ]
  },
  {
   "cell_type": "code",
   "execution_count": 58,
   "metadata": {},
   "outputs": [
    {
     "data": {
      "application/vnd.jupyter.widget-view+json": {
       "model_id": "bd5a5920958147599807f0c85cc11ec5",
       "version_major": 2,
       "version_minor": 0
      },
      "text/plain": [
       "interactive(children=(IntSlider(value=200, description='window_size', max=400, min=10, step=10), IntSlider(val…"
      ]
     },
     "metadata": {},
     "output_type": "display_data"
    }
   ],
   "source": [
    "def gaussian_rate(window_size, std):\n",
    "    window = sig.gaussian(window_size, std)\n",
    "    window = window/sum(window)\n",
    "    window = window*samp\n",
    "    gauss = np.convolve(spk_array, window, mode='same')\n",
    "    fig, ax = plt.subplots(figsize=(12,4), nrows=1, ncols=1)\n",
    "    ax.plot(time_array ,gauss)\n",
    "    __ = ax.set_xlabel('Time(s)')\n",
    "    __ = ax.set_ylabel('firing rate(sp/s)')\n",
    "    __ = ax.set_title('Guassian spike train')\n",
    "\n",
    "_ = widgets.interact(gaussian_rate, window_size=(10,400,10), std=(10,70,5))\n"
   ]
  },
  {
   "cell_type": "code",
   "execution_count": 41,
   "metadata": {},
   "outputs": [],
   "source": [
    "#### "
   ]
  },
  {
   "cell_type": "code",
   "execution_count": 57,
   "metadata": {},
   "outputs": [
    {
     "data": {
      "image/png": "[encoded data removed]",
      "text/plain": [
       "<Figure size 288x288 with 1 Axes>"
      ]
     },
     "metadata": {
      "image/png": {
       "height": 270,
       "width": 270
      },
      "needs_background": "light"
     },
     "output_type": "display_data"
    }
   ],
   "source": [
    "alpha = 0.05\n",
    "t = np.arange(-300,301)\n",
    "alpha_array = alpha**2*(t*(t>0))*np.exp(-alpha*t) * samp\n",
    "fig, ax = plt.subplots(figsize=(4,4), nrows=1, ncols=1)\n",
    "__ = ax.plot(t, alpha_array)\n",
    "__ = ax.set_title('causal window')\n"
   ]
  },
  {
   "cell_type": "code",
   "execution_count": 55,
   "metadata": {},
   "outputs": [
    {
     "data": {
      "application/vnd.jupyter.widget-view+json": {
       "model_id": "d48c154f689b4633a22d004994cc2b8c",
       "version_major": 2,
       "version_minor": 0
      },
      "text/plain": [
       "interactive(children=(IntSlider(value=250, description='window_size', max=500, min=10, step=20), FloatSlider(v…"
      ]
     },
     "metadata": {},
     "output_type": "display_data"
    }
   ],
   "source": [
    "def causal_rate(window_size, alpha=0.02):\n",
    "    t = np.arange(-window_size/2,(window_size/2+1))\n",
    "    alpha_array = alpha**2*(t*(t>0))*np.exp(-alpha*t) * samp\n",
    "    causal = np.convolve(spk_array, alpha_array, mode='same') \n",
    "    fig, ax = plt.subplots(figsize=(12,4), nrows=1, ncols=1)\n",
    "    ax.plot(time_array, causal)\n",
    "    __ = ax.set_xlabel('Time(s)')\n",
    "    __ = ax.set_ylabel('firing rate(sp/s)')\n",
    "    __ = ax.set_title('Guassian spike train')\n",
    "\n",
    "_ = widgets.interact(causal_rate, window_size=(10,500,20), alpha=(0.01,0.1,0.01))"
   ]
  },
  {
   "cell_type": "markdown",
   "metadata": {},
   "source": [
    "### using convolution to smooth"
   ]
  },
  {
   "cell_type": "code",
   "execution_count": 61,
   "metadata": {},
   "outputs": [
    {
     "data": {
      "application/vnd.jupyter.widget-view+json": {
       "model_id": "c5ebb24ad45b4110be15bb17a5b76b62",
       "version_major": 2,
       "version_minor": 0
      },
      "text/plain": [
       "interactive(children=(IntSlider(value=130, description='window_size', max=250, min=10, step=10), FloatSlider(v…"
      ]
     },
     "metadata": {},
     "output_type": "display_data"
    }
   ],
   "source": [
    "def convolution_smoothing(window_size, std):\n",
    "    r = np.arange(0, 30*math.pi, .01)\n",
    "    v = np.sin(r) + np.cos(r/10)*2\n",
    "    noise = np.random.normal(loc=0, scale=0.3, size=len(r))\n",
    "    signal = noise + v\n",
    "    fig, ax = plt.subplots(figsize=(12,4), nrows=1, ncols=1)\n",
    "    ax.plot(signal)\n",
    "    window = sig.gaussian(window_size, std)\n",
    "    smooth = np.convolve(signal, window)\n",
    "    ax.plot(smooth)\n",
    "\n",
    "_ = widgets.interact(convolution_smoothing, window_size=(10,250,10), std=(0.5,5,0.5))"
   ]
  },
  {
   "cell_type": "markdown",
   "metadata": {},
   "source": [
    "### what are the problems you recognize with the smoothed signal?\n",
    "\n",
    "### how can you correct these problems?"
   ]
  },
  {
   "cell_type": "code",
   "execution_count": null,
   "metadata": {},
   "outputs": [],
   "source": []
  }
 ],
 "metadata": {
  "kernelspec": {
   "display_name": "Python 3",
   "language": "python",
   "name": "python3"
  },
  "language_info": {
   "codemirror_mode": {
    "name": "ipython",
    "version": 3
   },
   "file_extension": ".py",
   "mimetype": "text/x-python",
   "name": "python",
   "nbconvert_exporter": "python",
   "pygments_lexer": "ipython3",
   "version": "3.8.3"
  }
 },
 "nbformat": 4,
 "nbformat_minor": 4
}
