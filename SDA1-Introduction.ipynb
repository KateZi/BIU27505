{
 "cells": [
  {
   "cell_type": "markdown",
   "metadata": {},
   "source": [
    "# SDA - lecture 1 - Introduction"
   ]
  },
  {
   "cell_type": "code",
   "execution_count": null,
   "metadata": {},
   "outputs": [],
   "source": [
    "import math\n",
    "import numpy as np\n",
    "import matplotlib.pyplot as plt\n",
    "\n",
    "%matplotlib widget\n",
    "# %matplotlib inline"
   ]
  },
  {
   "cell_type": "markdown",
   "metadata": {},
   "source": [
    "## Dirac's delta\n",
    "\n",
    "$ \\delta(x) = lim_{\\sigma \\to 0}\\delta_\\sigma(x) $\n",
    "\n",
    "$ \\delta_\\sigma(x) = \\frac{1}{\\sigma \\sqrt{\\pi}}e^{-\\frac{x^{2}}{\\sigma^{2}}} $"
   ]
  },
  {
   "cell_type": "code",
   "execution_count": null,
   "metadata": {},
   "outputs": [],
   "source": [
    "fig, ax = plt.subplots(figsize=(4,4), nrows=1, ncols=1)\n",
    "\n",
    "def ddelta(r, sigma = 1):\n",
    "    return np.exp(-r**2/sigma**2) / (sigma * np.sqrt(math.pi))\n",
    "\n",
    "r = np.arange(-2, 2, .01)\n",
    "for sigma in [1, 0.5, 0.25, 0.125]:\n",
    "    ax.plot(r, ddelta(r, sigma),label=f'\\u03C3={sigma}')\n",
    "ax.legend()\n",
    "ax.grid()"
   ]
  },
  {
   "cell_type": "markdown",
   "metadata": {},
   "source": [
    "## Sampling a signal\n",
    "Sampling a signal at different frequenies leads to a distortion of the original signal at low smapling frequencies (Nyquist)"
   ]
  },
  {
   "cell_type": "code",
   "execution_count": null,
   "metadata": {},
   "outputs": [],
   "source": [
    "fig, ax = plt.subplots(figsize=(12,3), nrows=1, ncols=4, sharex=True)   \n",
    "r = np.arange(0, 8*math.pi, .01)\n",
    "v = np.sin(r)\n",
    "ax[0].plot(r,v)\n",
    "\n",
    "for i, samp in enumerate([0.25, 1, 4]):\n",
    "    rsamp = np.arange(0, 8*math.pi, samp)\n",
    "    vsamp = np.sin(rsamp)\n",
    "    ax[i+1].plot(rsamp,vsamp,'*:')\n",
    "    ax[i+1].set_title(f'Sample: {samp}')      "
   ]
  },
  {
   "cell_type": "markdown",
   "metadata": {},
   "source": [
    "## Quantizing a signal\n",
    "\n",
    "$ n_{bits} =log_2\\frac{range}{resolution} $,       $  resolution = \\frac{range}{2^{n_{bits}}}$\n"
   ]
  },
  {
   "cell_type": "code",
   "execution_count": null,
   "metadata": {},
   "outputs": [],
   "source": [
    "fig, ax = plt.subplots(figsize=(12,3), nrows=1, ncols=4, sharex=True)   \n",
    "r = np.arange(0, 8*math.pi, .01)\n",
    "v = (np.sin(r)+1)/2\n",
    "ax[0].plot(r,v)\n",
    "\n",
    "for i, quant in enumerate([1,2,4]):\n",
    "    vals = 2 ** quant\n",
    "    q = np.floor(v * vals)/(vals-1)\n",
    "    ax[i+1].plot(r,q)\n",
    "    ax[i+1].set_title(f'{quant} bits')     "
   ]
  },
  {
   "cell_type": "markdown",
   "metadata": {},
   "source": []
  }
 ],
 "metadata": {
  "kernelspec": {
   "display_name": "Python 3",
   "language": "python",
   "name": "python3"
  },
  "language_info": {
   "codemirror_mode": {
    "name": "ipython",
    "version": 3
   },
   "file_extension": ".py",
   "mimetype": "text/x-python",
   "name": "python",
   "nbconvert_exporter": "python",
   "pygments_lexer": "ipython3",
   "version": "3.6.8"
  }
 },
 "nbformat": 4,
 "nbformat_minor": 4
}
