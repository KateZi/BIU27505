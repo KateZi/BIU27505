{
 "cells": [
  {
   "cell_type": "markdown",
   "metadata": {},
   "source": [
    "# SDA - lecture 2 - Stochastic processes"
   ]
  },
  {
   "cell_type": "code",
   "execution_count": null,
   "metadata": {},
   "outputs": [],
   "source": [
    "import numpy as np\n",
    "import scipy.signal as sig\n",
    "import matplotlib.pyplot as plt\n",
    "\n",
    "%matplotlib inline"
   ]
  },
  {
   "cell_type": "markdown",
   "metadata": {},
   "source": [
    "### Firing rate"
   ]
  },
  {
   "cell_type": "code",
   "execution_count": null,
   "metadata": {},
   "outputs": [],
   "source": [
    "# Generate a \"spike train\" of a neuron \n",
    "samp = 1000\n",
    "rate = 20 / samp\n",
    "duration = 5\n",
    "\n",
    "spk_array = (np.random.uniform(size=samp*duration)<rate).astype(np.int32)\n",
    "time_array = np.arange(0, duration, 1/samp)"
   ]
  },
  {
   "cell_type": "code",
   "execution_count": null,
   "metadata": {},
   "outputs": [],
   "source": [
    "def rate_plot(x, y, ax, title, samp=1000):\n",
    "    ax.plot(x,y*samp)\n",
    "    ax.set_ylabel('Firing rate\\n[sp/s]')\n",
    "    ax.set_title(title)\n",
    "    ax.grid()\n",
    "    \n",
    "fig, ax = plt.subplots(figsize=(12,20), nrows=5, ncols=1)\n",
    "\n",
    "rate_plot(time_array, spk_array, ax[0], 'Spike train')\n",
    "\n",
    "bin_size = 100\n",
    "bin_array = np.zeros_like(spk_array, dtype=np.float32)\n",
    "for i in np.arange(0, samp*duration, bin_size):\n",
    "    bin_array[i:i+bin_size] = spk_array[i:i+bin_size].sum() / bin_size\n",
    "rate_plot(time_array, bin_array, ax[1], 'Binned Spike train')\n",
    "\n",
    "win_size = 100\n",
    "win_array = np.ones(win_size)/win_size\n",
    "rec_conv_array = np.convolve(spk_array, win_array, 'same')\n",
    "rate_plot(time_array, rec_conv_array, ax[2], 'Rectengular convolution')\n",
    "\n",
    "win_size = 200\n",
    "conv_std = 50\n",
    "gauss_array = sig.gaussian(win_size, conv_std) \n",
    "gauss_conv_array = np.convolve(spk_array, gauss_array, 'same')\n",
    "rate_plot(time_array, gauss_conv_array, ax[3], 'Gaussian convolution')\n",
    "\n",
    "alpha = 0.02\n",
    "t = np.arange(-300,301)\n",
    "alpha_array = alpha**2*(t*(t>0))*np.exp(-alpha*t)\n",
    "alpha_conv_array = np.convolve(spk_array, alpha_array, 'same')\n",
    "rate_plot(time_array, alpha_conv_array, ax[4], 'Causal convolution')\n",
    "\n",
    "ax[4].set_xlabel('Time [s]');"
   ]
  },
  {
   "cell_type": "code",
   "execution_count": null,
   "metadata": {},
   "outputs": [],
   "source": []
  }
 ],
 "metadata": {
  "kernelspec": {
   "display_name": "Python 3",
   "language": "python",
   "name": "python3"
  },
  "language_info": {
   "codemirror_mode": {
    "name": "ipython",
    "version": 3
   },
   "file_extension": ".py",
   "mimetype": "text/x-python",
   "name": "python",
   "nbconvert_exporter": "python",
   "pygments_lexer": "ipython3",
   "version": "3.6.8"
  }
 },
 "nbformat": 4,
 "nbformat_minor": 4
}
