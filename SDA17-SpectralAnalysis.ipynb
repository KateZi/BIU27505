{
 "cells": [
  {
   "cell_type": "markdown",
   "metadata": {},
   "source": [
    "# SDA - lecture 17 - Spectral analysis"
   ]
  },
  {
   "cell_type": "code",
   "execution_count": null,
   "metadata": {},
   "outputs": [],
   "source": [
    "import logging\n",
    "logging.basicConfig(level=logging.INFO, format='%(levelname)s: %(asctime)s: %(message)s')\n",
    "\n",
    "import math\n",
    "import numpy as np\n",
    "import matplotlib.pyplot as plt\n",
    "import scipy.signal as sig\n",
    "\n",
    "%matplotlib inline"
   ]
  },
  {
   "cell_type": "markdown",
   "metadata": {},
   "source": [
    "### Harmonics\n",
    "\n",
    "Author: Ori Carmi\n",
    "\n",
    "Non-linear transformation of pure sinus waves (in this case using arctan) lead to the formation of harmonics."
   ]
  },
  {
   "cell_type": "code",
   "execution_count": null,
   "metadata": {},
   "outputs": [],
   "source": [
    "N = 1024 # number of samples\n",
    "fs = 50 # sampling freq\n",
    "t = np.linspace(0,(N-1)/fs,N) # time vector\n",
    "f = np.arange(N/2)*(fs/N) # frequency vector (for spectrum)\n",
    "fc = 2 # freq of input signal\n",
    "a = np.logspace(-.5,2,3) # different amplitudes of input signal\n",
    "for i in range(len(a)): # iterate amplitudes\n",
    "    x = np.cos(2*np.pi*fc*t)*a[i] # input is cosine with amplitude a[i]\n",
    "    y = np.arctan(x) # output y: input x through non-linear system (arctan)\n",
    "    Y = np.fft.fft(y) # show spectrum of output\n",
    "    fig, ax = plt.subplots(figsize=(10,6), nrows=2, ncols=1)\n",
    "    ax[0].plot(t,y)\n",
    "    ax[0].set_title(f'output vs time')\n",
    "    ax[0].set_xlabel('Time [s]')\n",
    "    ax[1].plot(f,np.abs(Y[range(int(N/2))]))\n",
    "    ax[1].set_title(f'DFT of output')\n",
    "    ax[1].set_xlabel('Frequency [Hz]')"
   ]
  },
  {
   "cell_type": "code",
   "execution_count": null,
   "metadata": {},
   "outputs": [],
   "source": []
  }
 ],
 "metadata": {
  "kernelspec": {
   "display_name": "Python 3",
   "language": "python",
   "name": "python3"
  },
  "language_info": {
   "codemirror_mode": {
    "name": "ipython",
    "version": 3
   },
   "file_extension": ".py",
   "mimetype": "text/x-python",
   "name": "python",
   "nbconvert_exporter": "python",
   "pygments_lexer": "ipython3",
   "version": "3.6.8"
  }
 },
 "nbformat": 4,
 "nbformat_minor": 4
}
