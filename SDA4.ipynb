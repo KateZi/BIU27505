{
 "cells": [
  {
   "cell_type": "markdown",
   "metadata": {},
   "source": [
    "# SDA - lecture 4 - Single spike train"
   ]
  },
  {
   "cell_type": "code",
   "execution_count": null,
   "metadata": {},
   "outputs": [],
   "source": [
    "import logging\n",
    "logging.basicConfig(level=logging.INFO, format='%(levelname)s: %(asctime)s: %(message)s')\n",
    "import warnings\n",
    "\n",
    "import math\n",
    "import numpy as np\n",
    "import matplotlib.pyplot as plt\n",
    "\n",
    "from sklearn.linear_model import LinearRegression\n",
    "\n",
    "%matplotlib inline"
   ]
  },
  {
   "cell_type": "code",
   "execution_count": null,
   "metadata": {},
   "outputs": [],
   "source": [
    "# Generate a \"spike train\" of a neuron \n",
    "samp = 1000\n",
    "rate = 20 / samp\n",
    "duration = 600\n",
    "\n",
    "spk_array = (np.random.uniform(size=samp*duration)<rate).astype(np.int32)\n",
    "time_array = np.arange(0, duration, 1/samp)"
   ]
  },
  {
   "cell_type": "markdown",
   "metadata": {},
   "source": [
    "### The inter-spike interval (ISI) histogram"
   ]
  },
  {
   "cell_type": "code",
   "execution_count": null,
   "metadata": {},
   "outputs": [],
   "source": [
    "spk_times = np.flatnonzero(spk_array) * 1000 / samp  # Switch from bins to milliseconds\n",
    "spk_intervals = np.diff(spk_times) \n",
    "\n",
    "fig, ax = plt.subplots(figsize=(8,4), nrows=1, ncols=2)\n",
    "\n",
    "np.seterr(divide = 'ignore')\n",
    "hist_vals, hist_bins = np.histogram(spk_intervals, bins=np.arange(1,400,5), density=True)\n",
    "\n",
    "ax[0].plot(hist_bins[:-1], hist_vals)\n",
    "ax[0].set_xlabel('Interval [ms]')\n",
    "ax[0].set_ylabel('Probability')\n",
    "ax[0].set_title(f'Linear TIH')\n",
    "ax[1].plot(hist_bins[:-1], np.log(hist_vals))\n",
    "ax[1].set_xlabel('Interval [ms]')\n",
    "ax[1].set_ylabel('Log Probability')\n",
    "ax[1].set_title(f'Logarithmic TIH')\n",
    "\n",
    "reg = LinearRegression()  \n",
    "reg.fit(hist_bins[:20].reshape((-1,1)), np.log(hist_vals[:20]).reshape((-1,1)))\n",
    "pred_vals = reg.predict(hist_bins.reshape((-1,1)))  \n",
    "ax[1].plot(hist_bins, pred_vals.reshape(-1),'k:')\n",
    "\n",
    "logging.info(f'Slope reflects rate {-reg.coef_[0][0]*1000:.2f} spikes/s')\n",
    "logging.info(f'Interception reflects rate {np.exp(reg.intercept_[0])*1000:.2f} spikes/s')"
   ]
  },
  {
   "cell_type": "code",
   "execution_count": null,
   "metadata": {},
   "outputs": [],
   "source": []
  }
 ],
 "metadata": {
  "kernelspec": {
   "display_name": "Python 3",
   "language": "python",
   "name": "python3"
  },
  "language_info": {
   "codemirror_mode": {
    "name": "ipython",
    "version": 3
   },
   "file_extension": ".py",
   "mimetype": "text/x-python",
   "name": "python",
   "nbconvert_exporter": "python",
   "pygments_lexer": "ipython3",
   "version": "3.6.8"
  }
 },
 "nbformat": 4,
 "nbformat_minor": 4
}
