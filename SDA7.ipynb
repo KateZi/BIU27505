{
 "cells": [
  {
   "cell_type": "markdown",
   "metadata": {},
   "source": [
    "# SDA - lecture 7 - Neural discrimination"
   ]
  },
  {
   "cell_type": "code",
   "execution_count": null,
   "metadata": {},
   "outputs": [],
   "source": [
    "import logging\n",
    "logging.basicConfig(level=logging.INFO, format='%(levelname)s: %(asctime)s: %(message)s')\n",
    "\n",
    "import numpy as np\n",
    "import matplotlib.pyplot as plt\n",
    "\n",
    "%matplotlib inline"
   ]
  },
  {
   "cell_type": "markdown",
   "metadata": {},
   "source": [
    "### Generate samples \n",
    "Positive and negative responses (Poissonian distribution)"
   ]
  },
  {
   "cell_type": "code",
   "execution_count": null,
   "metadata": {},
   "outputs": [],
   "source": [
    "mneg, mpos = 5, 10\n",
    "nsamp = 100\n",
    "\n",
    "spos = np.random.poisson(mpos, nsamp)\n",
    "sneg = np.random.poisson(mneg, nsamp)"
   ]
  },
  {
   "cell_type": "markdown",
   "metadata": {},
   "source": [
    "### Plot histograms"
   ]
  },
  {
   "cell_type": "code",
   "execution_count": null,
   "metadata": {},
   "outputs": [],
   "source": [
    "hist_neg, hist_bins = np.histogram(sneg, bins=np.arange(0,mpos*2.5), density=True)\n",
    "hist_pos, hist_bins = np.histogram(spos, bins=np.arange(0,mpos*2.5), density=True)\n",
    "\n",
    "plt.bar(hist_bins[:-1], hist_pos, color='b', label='Positive', align='center', width=0.4)\n",
    "plt.bar(hist_bins[:-1], hist_neg, color='r', label='Negative', align='edge', width=-0.4)\n",
    "plt.legend();"
   ]
  },
  {
   "cell_type": "code",
   "execution_count": null,
   "metadata": {},
   "outputs": [],
   "source": [
    "dprime = (spos.mean()-sneg.mean()) / np.sqrt((spos.var()+sneg.var())/2)\n",
    "logging.info(f'd-prime of the responses is {dprime:.2f}')"
   ]
  },
  {
   "cell_type": "markdown",
   "metadata": {},
   "source": [
    "### ROC curve"
   ]
  },
  {
   "cell_type": "code",
   "execution_count": null,
   "metadata": {},
   "outputs": [],
   "source": [
    "plt.plot(1-hist_neg.cumsum(), 1-hist_pos.cumsum(),'*:')\n",
    "plt.plot([0,1], [0,1], '-')\n",
    "plt.xlabel('P (False positive)')\n",
    "plt.ylabel('P (True positive)')"
   ]
  },
  {
   "cell_type": "code",
   "execution_count": null,
   "metadata": {},
   "outputs": [],
   "source": []
  }
 ],
 "metadata": {
  "kernelspec": {
   "display_name": "Python 3",
   "language": "python",
   "name": "python3"
  },
  "language_info": {
   "codemirror_mode": {
    "name": "ipython",
    "version": 3
   },
   "file_extension": ".py",
   "mimetype": "text/x-python",
   "name": "python",
   "nbconvert_exporter": "python",
   "pygments_lexer": "ipython3",
   "version": "3.6.8"
  }
 },
 "nbformat": 4,
 "nbformat_minor": 4
}
