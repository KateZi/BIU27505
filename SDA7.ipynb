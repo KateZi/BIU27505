{
 "cells": [
  {
   "cell_type": "markdown",
   "metadata": {},
   "source": [
    "# SDA - lecture 7 - Neural discrimination"
   ]
  },
  {
   "cell_type": "code",
   "execution_count": null,
   "metadata": {},
   "outputs": [],
   "source": [
    "import logging\n",
    "logging.basicConfig(level=logging.INFO, format='%(levelname)s: %(asctime)s: %(message)s')\n",
    "\n",
    "import numpy as np\n",
    "import matplotlib.pyplot as plt\n",
    "\n",
    "%matplotlib inline"
   ]
  },
  {
   "cell_type": "markdown",
   "metadata": {},
   "source": [
    "## Example 1 - ROC of two Poisson distributions"
   ]
  },
  {
   "cell_type": "code",
   "execution_count": null,
   "metadata": {},
   "outputs": [],
   "source": [
    "# Generate samples - Positive and negative responses (Poissonian distribution)\n",
    "\n",
    "mneg, mpos = 5, 10\n",
    "nsamp = 100\n",
    "\n",
    "spos = np.random.poisson(mpos, nsamp)\n",
    "sneg = np.random.poisson(mneg, nsamp)"
   ]
  },
  {
   "cell_type": "markdown",
   "metadata": {},
   "source": [
    "### Plot histograms"
   ]
  },
  {
   "cell_type": "code",
   "execution_count": null,
   "metadata": {},
   "outputs": [],
   "source": [
    "hist_neg, hist_bins = np.histogram(sneg, bins=np.arange(0,mpos*2.5), density=True)\n",
    "hist_pos, hist_bins = np.histogram(spos, bins=np.arange(0,mpos*2.5), density=True)\n",
    "\n",
    "plt.bar(hist_bins[:-1], hist_pos, color='b', label='Positive', align='center', width=0.4)\n",
    "plt.bar(hist_bins[:-1], hist_neg, color='r', label='Negative', align='edge', width=-0.4)\n",
    "plt.legend();"
   ]
  },
  {
   "cell_type": "code",
   "execution_count": null,
   "metadata": {},
   "outputs": [],
   "source": [
    "dprime = (spos.mean()-sneg.mean()) / np.sqrt((spos.var()+sneg.var())/2)\n",
    "logging.info(f'd-prime of the responses is {dprime:.2f}')"
   ]
  },
  {
   "cell_type": "markdown",
   "metadata": {},
   "source": [
    "### ROC curve"
   ]
  },
  {
   "cell_type": "code",
   "execution_count": null,
   "metadata": {},
   "outputs": [],
   "source": [
    "plt.plot(1-hist_neg.cumsum(), 1-hist_pos.cumsum(),'*:')\n",
    "plt.plot([0,1], [0,1], '-')\n",
    "plt.xlabel('P (False positive)')\n",
    "plt.ylabel('P (True positive)');"
   ]
  },
  {
   "cell_type": "markdown",
   "metadata": {},
   "source": [
    "## Example 2 - ROC using sklearn\n",
    "ROC calculation of the result of a logistic regressor (Contributed by Yuval Samoilov)"
   ]
  },
  {
   "cell_type": "code",
   "execution_count": null,
   "metadata": {},
   "outputs": [],
   "source": [
    "from sklearn.datasets import make_classification\n",
    "from sklearn.linear_model import LogisticRegression\n",
    "from sklearn.model_selection import train_test_split\n",
    "from sklearn.metrics import roc_curve, roc_auc_score\n",
    "\n",
    "X, y = make_classification(n_samples=1000, n_classes=2, random_state=1)\n",
    "x_train, x_test, y_train, y_test = train_test_split(X, y, test_size=0.25, random_state=1)\n",
    "model = LogisticRegression(solver='lbfgs')\n",
    "model.fit(x_train, y_train)\n",
    "\n",
    "# predict probabilities\n",
    "ns_pred = [0 for _ in range(len(y_test))]\n",
    "lr_pred = model.predict_proba(x_test)\n",
    "lr_pred = lr_pred[:, 1]\n",
    "\n",
    "# calculate scores\n",
    "ns_auc = roc_auc_score(y_test, ns_pred)\n",
    "lr_auc = roc_auc_score(y_test, lr_pred)\n",
    "\n",
    "logging.info(f'No test: ROC area under the currve (AUC) = {ns_auc:.3f}')\n",
    "logging.info(f'Logistic regression: ROC area under the currve (AUC) = {lr_auc:.3f}')\n",
    "\n",
    "# calculate roc curves\n",
    "ns_fpr, ns_tpr, _ = roc_curve(y_test, ns_pred)\n",
    "lr_fpr, lr_tpr, _ = roc_curve(y_test, lr_pred)\n",
    "\n",
    "plt.plot(ns_fpr, ns_tpr, linestyle='--', label='Naive classifier')\n",
    "plt.plot(lr_fpr, lr_tpr, marker='.', linestyle =\":\", color='k', label='Logistic regression')\n",
    "plt.xlabel('False Positive Rate')\n",
    "plt.ylabel('True Positive Rate')\n",
    "plt.legend();"
   ]
  },
  {
   "cell_type": "code",
   "execution_count": null,
   "metadata": {},
   "outputs": [],
   "source": []
  }
 ],
 "metadata": {
  "kernelspec": {
   "display_name": "Python 3",
   "language": "python",
   "name": "python3"
  },
  "language_info": {
   "codemirror_mode": {
    "name": "ipython",
    "version": 3
   },
   "file_extension": ".py",
   "mimetype": "text/x-python",
   "name": "python",
   "nbconvert_exporter": "python",
   "pygments_lexer": "ipython3",
   "version": "3.6.8"
  }
 },
 "nbformat": 4,
 "nbformat_minor": 4
}
