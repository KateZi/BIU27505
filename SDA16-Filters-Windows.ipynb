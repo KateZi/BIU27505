{
 "cells": [
  {
   "cell_type": "markdown",
   "metadata": {},
   "source": [
    "# SDA - lecture 16 - Filters and Windows"
   ]
  },
  {
   "cell_type": "code",
   "execution_count": null,
   "metadata": {},
   "outputs": [],
   "source": [
    "import logging\n",
    "logging.basicConfig(level=logging.INFO, format='%(levelname)s: %(asctime)s: %(message)s')\n",
    "\n",
    "import math\n",
    "import numpy as np\n",
    "import matplotlib.pyplot as plt\n",
    "import scipy.signal as sig\n",
    "\n",
    "%matplotlib inline"
   ]
  },
  {
   "cell_type": "markdown",
   "metadata": {},
   "source": [
    "### Simple example of low pass filtter"
   ]
  },
  {
   "cell_type": "code",
   "execution_count": null,
   "metadata": {},
   "outputs": [],
   "source": [
    "fs = 1000\n",
    "x = np.arange(0,1,1/fs)\n",
    "a1, a2 = 1, 3\n",
    "f1, f2 = 10, 50\n",
    "y = a1 * np.sin(x*math.pi*2*f1) + a2 + np.sin(x*math.pi*2*f2)\n",
    "\n",
    "fig, ax = plt.subplots(figsize=(20,9), nrows=3, ncols=1)\n",
    "ax[0].plot(x,y)\n",
    "ax[0].set_title(f'Sum of {f1} Hz an {f2} Hz sine waves')\n",
    "n, flow = 4, 30\n",
    "[blow,alow] = sig.butter(n, flow/(fs/2))\n",
    "ylow = sig.filtfilt(blow,alow,y)\n",
    "ax[1].plot(x,ylow)\n",
    "ax[1].set_title(f'Filtered by Butterworth lowpass {n} pole filter (fc={flow} Hz)')\n",
    "\n",
    "n, flow = 4, 40\n",
    "[blow,alow] = sig.butter(n, flow/(fs/2))\n",
    "ylow = sig.filtfilt(blow,alow,y)\n",
    "ax[2].plot(x,ylow)\n",
    "ax[2].set_title(f'Filtered by Butterworth lowpass {n} pole filter (fc={flow} Hz)');\n"
   ]
  },
  {
   "cell_type": "code",
   "execution_count": null,
   "metadata": {},
   "outputs": [],
   "source": []
  },
  {
   "cell_type": "code",
   "execution_count": null,
   "metadata": {},
   "outputs": [],
   "source": []
  }
 ],
 "metadata": {
  "kernelspec": {
   "display_name": "Python 3",
   "language": "python",
   "name": "python3"
  },
  "language_info": {
   "codemirror_mode": {
    "name": "ipython",
    "version": 3
   },
   "file_extension": ".py",
   "mimetype": "text/x-python",
   "name": "python",
   "nbconvert_exporter": "python",
   "pygments_lexer": "ipython3",
   "version": "3.6.8"
  }
 },
 "nbformat": 4,
 "nbformat_minor": 4
}
