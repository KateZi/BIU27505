{
 "cells": [
  {
   "cell_type": "markdown",
   "metadata": {},
   "source": [
    "# SDA - lecture 16 - Filters and Windows"
   ]
  },
  {
   "cell_type": "code",
   "execution_count": null,
   "metadata": {},
   "outputs": [],
   "source": [
    "import logging\n",
    "logging.basicConfig(level=logging.INFO, format='%(levelname)s: %(asctime)s: %(message)s')\n",
    "\n",
    "import math\n",
    "import numpy as np\n",
    "import matplotlib.pyplot as plt\n",
    "import scipy.signal as sig\n",
    "\n",
    "%matplotlib inline"
   ]
  },
  {
   "cell_type": "markdown",
   "metadata": {},
   "source": [
    "### Simple example of low pass filtter"
   ]
  },
  {
   "cell_type": "code",
   "execution_count": null,
   "metadata": {},
   "outputs": [],
   "source": [
    "fs = 1000\n",
    "x = np.arange(0,1,1/fs)\n",
    "a1, a2 = 1, 3\n",
    "f1, f2 = 10, 50\n",
    "y = a1 * np.sin(x*math.pi*2*f1) + a2 + np.sin(x*math.pi*2*f2)\n",
    "\n",
    "fig, ax = plt.subplots(figsize=(20,9), nrows=3, ncols=1)\n",
    "ax[0].plot(x,y)\n",
    "ax[0].set_title(f'Sum of {f1} Hz an {f2} Hz sine waves')\n",
    "n, flow = 4, 30\n",
    "[blow,alow] = sig.butter(n, flow/(fs/2))\n",
    "ylow = sig.filtfilt(blow,alow,y)\n",
    "ax[1].plot(x,ylow)\n",
    "ax[1].set_title(f'Filtered by Butterworth lowpass {n} pole filter (fc={flow} Hz)')\n",
    "\n",
    "n, flow = 4, 40\n",
    "[blow,alow] = sig.butter(n, flow/(fs/2))\n",
    "ylow = sig.filtfilt(blow,alow,y)\n",
    "ax[2].plot(x,ylow)\n",
    "ax[2].set_title(f'Filtered by Butterworth lowpass {n} pole filter (fc={flow} Hz)');\n"
   ]
  },
  {
   "cell_type": "markdown",
   "metadata": {},
   "source": [
    "### Windows\n",
    "\n",
    "Author: Ori Carmi\n",
    "    \n",
    "Applying a window to the original signal leads to a wider central lobe (hanning window) \n",
    "or extended side lobes (square window))"
   ]
  },
  {
   "cell_type": "code",
   "execution_count": null,
   "metadata": {},
   "outputs": [],
   "source": [
    "def twoFreqs(f, a):\n",
    "    fs = 50\n",
    "    x = np.arange(0,30,1/fs)\n",
    "    \n",
    "    y = a[0] * np.sin(x*math.pi*2*f[0]) + a[1]*np.sin(x*math.pi*2*f[1])\n",
    "    nfft= 2048\n",
    "    fig, ax = plt.subplots(figsize=(20,9), nrows=4, ncols=1)\n",
    "    ax[0].plot(x,y)\n",
    "    ax[0].set_title(f'Sum of {f[0]} Hz and {f[1]} Hz sine waves')\n",
    "    # plot DFT of entire signal\n",
    "    Y = np.fft.fft(y)/len(y)\n",
    "    Y = abs(Y)[range(int(len(y)/2))]\n",
    "    f = np.arange(len(y)/2)*(fs/len(y))\n",
    "    ax[1].plot(f,Y)\n",
    "    ax[1].set_title(f'Spectrum of y(t)')\n",
    "\n",
    "    # plot DFT of shortened signal with rectangular window\n",
    "    y2 = y[0:200] # take two seconds (square window)\n",
    "    Y2 = np.fft.fft(y2,nfft)/nfft\n",
    "    Y2 = abs(Y2)[range(int(nfft/2))]\n",
    "    f2 = np.arange(nfft/2)*(fs/nfft)\n",
    "    ax[2].plot(f2,Y2)\n",
    "    ax[2].set_title(f'Spectrum of short square window of the signal')\n",
    "\n",
    "    # plot DFT of shortened signal with hanning window\n",
    "    y3 =y[0:200]*np.hanning(200) # take two seconds (hanning window)\n",
    "    Y3 = np.fft.fft(y3,nfft)/nfft\n",
    "    Y3 = abs(Y3)[range(int(nfft/2))]\n",
    "    f3 = np.arange(nfft/2)*(fs/nfft)\n",
    "    ax[3].plot(f3,Y3)\n",
    "    ax[3].set_title(f'Spectrum of short hanning window of the signal')\n",
    "    return        \n",
    "\n",
    "# Two close frequnecies\n",
    "twoFreqs((2, 2.5), (1, 3)) \n",
    "\n",
    "# Two remote frequencies\n",
    "twoFreqs((2, 7), (1, 3))   "
   ]
  },
  {
   "cell_type": "code",
   "execution_count": null,
   "metadata": {},
   "outputs": [],
   "source": []
  }
 ],
 "metadata": {
  "kernelspec": {
   "display_name": "Python 3",
   "language": "python",
   "name": "python3"
  },
  "language_info": {
   "codemirror_mode": {
    "name": "ipython",
    "version": 3
   },
   "file_extension": ".py",
   "mimetype": "text/x-python",
   "name": "python",
   "nbconvert_exporter": "python",
   "pygments_lexer": "ipython3",
   "version": "3.6.8"
  }
 },
 "nbformat": 4,
 "nbformat_minor": 4
}
