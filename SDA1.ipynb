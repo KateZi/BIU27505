{
 "cells": [
  {
   "cell_type": "markdown",
   "metadata": {},
   "source": [
    "# SDA - lecture 1 - Introduction"
   ]
  },
  {
   "cell_type": "code",
   "execution_count": null,
   "metadata": {},
   "outputs": [],
   "source": [
    "import math\n",
    "import numpy as np\n",
    "import matplotlib.pyplot as plt\n",
    "\n",
    "%matplotlib inline"
   ]
  },
  {
   "cell_type": "markdown",
   "metadata": {},
   "source": [
    "### Dirac's delta"
   ]
  },
  {
   "cell_type": "code",
   "execution_count": null,
   "metadata": {},
   "outputs": [],
   "source": [
    "fig, ax = plt.subplots(figsize=(4,4), nrows=1, ncols=1)\n",
    "\n",
    "def ddelta(r, sig = 1):\n",
    "    return np.exp(-r**2/sig**2) / (sig * np.sqrt(math.pi))\n",
    "\n",
    "r = np.arange(-2, 2, .01)\n",
    "for sig in [1, 0.5, 0.25, 0.125]:\n",
    "    ax.plot(r, ddelta(r, sig),label=f'\\u03C3={sig}')\n",
    "ax.legend()\n",
    "ax.grid()"
   ]
  },
  {
   "cell_type": "markdown",
   "metadata": {},
   "source": [
    "### Sampling a signal"
   ]
  },
  {
   "cell_type": "code",
   "execution_count": null,
   "metadata": {},
   "outputs": [],
   "source": [
    "fig, ax = plt.subplots(figsize=(12,3), nrows=1, ncols=4, sharex=True)   \n",
    "r = np.arange(0, 8*math.pi, .01)\n",
    "v = np.sin(r)\n",
    "ax[0].plot(r,v)\n",
    "\n",
    "for i, samp in enumerate([0.25, 1, 4]):\n",
    "    rsamp = np.arange(0, 8*math.pi, samp)\n",
    "    vsamp = np.sin(rsamp)\n",
    "    ax[i+1].plot(rsamp,vsamp,'*:')\n",
    "    ax[i+1].set_title(f'Sample: {samp}')\n",
    "                            "
   ]
  },
  {
   "cell_type": "code",
   "execution_count": null,
   "metadata": {},
   "outputs": [],
   "source": []
  }
 ],
 "metadata": {
  "kernelspec": {
   "display_name": "Python 3",
   "language": "python",
   "name": "python3"
  },
  "language_info": {
   "codemirror_mode": {
    "name": "ipython",
    "version": 3
   },
   "file_extension": ".py",
   "mimetype": "text/x-python",
   "name": "python",
   "nbconvert_exporter": "python",
   "pygments_lexer": "ipython3",
   "version": "3.6.8"
  }
 },
 "nbformat": 4,
 "nbformat_minor": 4
}
