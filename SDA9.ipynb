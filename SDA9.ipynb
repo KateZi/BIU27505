{
 "cells": [
  {
   "cell_type": "markdown",
   "metadata": {},
   "source": [
    "# SDA - lecture 9 - Optimization"
   ]
  },
  {
   "cell_type": "code",
   "execution_count": null,
   "metadata": {},
   "outputs": [],
   "source": [
    "import logging\n",
    "logging.basicConfig(level=logging.INFO, format='%(levelname)s: %(asctime)s: %(message)s')\n",
    "\n",
    "import time\n",
    "import math\n",
    "import numpy as np\n",
    "import matplotlib.pyplot as plt\n",
    "from copy import copy\n",
    "\n",
    "%matplotlib inline"
   ]
  },
  {
   "cell_type": "markdown",
   "metadata": {},
   "source": [
    "### Find a minimum of the mystery slow function within a specific range"
   ]
  },
  {
   "cell_type": "code",
   "execution_count": null,
   "metadata": {},
   "outputs": [],
   "source": [
    "def mystery_func(x, slow=True):\n",
    "    if slow:\n",
    "        time.sleep(1)\n",
    "    return x**3-10*x**2+4*x-3"
   ]
  },
  {
   "cell_type": "code",
   "execution_count": null,
   "metadata": {},
   "outputs": [],
   "source": [
    "# Draw the mystery function \n",
    "\n",
    "x = np.arange(0,10,0.01)\n",
    "y = mystery_func(x, slow = False)\n",
    "\n",
    "plt.plot(x,y);"
   ]
  },
  {
   "cell_type": "code",
   "execution_count": null,
   "metadata": {},
   "outputs": [],
   "source": [
    "w = (3 - math.sqrt(5))/2\n",
    "a, c = 0., 10.\n",
    "b = a + (c - a) * w\n",
    "fa, fb, fc = [mystery_func(x, slow=False) for x in [a, b,c]]\n",
    "epsilon = 0.01"
   ]
  },
  {
   "cell_type": "code",
   "execution_count": null,
   "metadata": {},
   "outputs": [],
   "source": [
    "count = 1\n",
    "while (c-a) > epsilon:\n",
    "    \n",
    "    if (c-b > b-a):\n",
    "        x = c - (c - a) * w\n",
    "        fx = mystery_func(x)\n",
    "        if fx > fb:\n",
    "            c, fc = x, fx\n",
    "        else:\n",
    "            a, fa = b, fb\n",
    "            b, fb = x, fx\n",
    "    else:\n",
    "        x = a + (c - a) * w\n",
    "        fx = mystery_func(x)\n",
    "        if fx > fb:\n",
    "            a, fa = x, fx\n",
    "        else:\n",
    "            c, fc = b, fb\n",
    "            b, fb = x, fx\n",
    "\n",
    "    logging.info(f'{count}: f(a={a:.2f}) = {fa:.2f}, f(b={b:.2f}) = {fb:.2f}, f(c={c:.2f}) = {fc:.2f} , f(x={x:.2f}) = {fx:.2f} ') \n",
    "    count += 1"
   ]
  },
  {
   "cell_type": "code",
   "execution_count": null,
   "metadata": {},
   "outputs": [],
   "source": []
  }
 ],
 "metadata": {
  "kernelspec": {
   "display_name": "Python 3",
   "language": "python",
   "name": "python3"
  },
  "language_info": {
   "codemirror_mode": {
    "name": "ipython",
    "version": 3
   },
   "file_extension": ".py",
   "mimetype": "text/x-python",
   "name": "python",
   "nbconvert_exporter": "python",
   "pygments_lexer": "ipython3",
   "version": "3.6.8"
  }
 },
 "nbformat": 4,
 "nbformat_minor": 4
}
