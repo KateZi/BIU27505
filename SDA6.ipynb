{
 "cells": [
  {
   "cell_type": "markdown",
   "metadata": {},
   "source": [
    "# SDA - Bayes Basics"
   ]
  },
  {
   "cell_type": "code",
   "execution_count": 37,
   "metadata": {},
   "outputs": [],
   "source": [
    "import numpy as np\n",
    "import matplotlib.pyplot as plt\n",
    "\n",
    "%matplotlib inline"
   ]
  },
  {
   "cell_type": "markdown",
   "metadata": {},
   "source": [
    "### P(A|B) given: P(A), P(B|A), P(B|not A)"
   ]
  },
  {
   "cell_type": "code",
   "execution_count": 110,
   "metadata": {},
   "outputs": [
    {
     "name": "stdout",
     "output_type": "stream",
     "text": [
      "P(Learning with Ayala) = 20.01%\n"
     ]
    }
   ],
   "source": [
    "# the prior probability for a rare disease - izharofobia\n",
    "p_a = 0.0002\n",
    "not_a = 1 - p_a\n",
    "\n",
    "# proposed new SOTA test for izharophibia\n",
    "p_b_given_a = 0.8\n",
    "p_b_given_not_a = 0.2\n",
    "\n",
    "# the complete prob. for the new test\n",
    "p_b = p_b_given_a * p_a + p_b_given_not_a * not_a\n",
    "print(f'P(Learning with Ayala) = {p_b * 100:.2f}%')"
   ]
  },
  {
   "cell_type": "code",
   "execution_count": 111,
   "metadata": {},
   "outputs": [
    {
     "name": "stdout",
     "output_type": "stream",
     "text": [
      "P(patient has izharophobia | Learning with Ayala) = 0.08%\n"
     ]
    }
   ],
   "source": [
    "#Mr Bayes's formula\n",
    "p_a_given_b = (p_b_given_a * p_a) / p_b\n",
    "print(f'P(patient has izharophobia | Learning with Ayala) = {(p_a_given_b * 100):.2f}%')"
   ]
  },
  {
   "cell_type": "markdown",
   "metadata": {},
   "source": [
    "### AUC example"
   ]
  },
  {
   "cell_type": "code",
   "execution_count": 120,
   "metadata": {},
   "outputs": [
    {
     "name": "stdout",
     "output_type": "stream",
     "text": [
      "No test: ROC AUC=0.500\n",
      "Random Forest: ROC AUC=0.847\n",
      "L-SVM: ROC AUC=0.852\n",
      "Logistic: ROC AUC=0.923\n"
     ]
    },
    {
     "data": {
      "image/png": "[encoded data removed]",
      "text/plain": [
       "<Figure size 432x288 with 1 Axes>"
      ]
     },
     "metadata": {
      "needs_background": "light"
     },
     "output_type": "display_data"
    }
   ],
   "source": [
    "from sklearn.datasets import make_classification\n",
    "from sklearn.linear_model import LogisticRegression\n",
    "from sklearn.svm import SVC\n",
    "from sklearn.ensemble import RandomForestClassifier\n",
    "from sklearn.model_selection import train_test_split\n",
    "from sklearn.metrics import roc_curve\n",
    "from sklearn.metrics import roc_auc_score\n",
    "\n",
    "# generate 2 dataset, preprocess and fit model\n",
    "X, y = make_classification(n_samples=1000, n_classes=2, random_state=1)\n",
    "x_train, x_test, y_train, y_test = train_test_split(X, y, test_size=0.25, random_state=1)\n",
    "model = LogisticRegression(solver='lbfgs')\n",
    "model.fit(x_train, y_train)\n",
    "classifier = SVC(kernel = 'linear', random_state = 0)\n",
    "classifier.fit(x_train, y_train)\n",
    "func = RandomForestClassifier(n_estimators = 10, criterion = 'entropy', random_state = 1)\n",
    "func.fit(x_train, y_train)\n",
    "\n",
    "# predict probabilities\n",
    "ns_pred = [0 for _ in range(len(y_test))]\n",
    "lr_pred = model.predict_proba(x_test)\n",
    "lr_pred = lr_pred[:, 1]\n",
    "svm_pred = classifier.predict(x_test)\n",
    "rf_pred = func.predict(x_test)\n",
    "\n",
    "# calculate scores\n",
    "ns_auc = roc_auc_score(y_test, ns_pred)\n",
    "lr_auc = roc_auc_score(y_test, lr_pred)\n",
    "svm_auc = roc_auc_score(y_test, svm_pred)\n",
    "rf_auc = roc_auc_score(y_test, rf_pred)\n",
    "\n",
    "print('No test: ROC AUC=%.3f' % (ns_auc))\n",
    "print('Random Forest: ROC AUC=%.3f' % (rf_auc))\n",
    "print('L-SVM: ROC AUC=%.3f' % (svm_auc))\n",
    "print('Logistic: ROC AUC=%.3f' % (lr_auc))\n",
    "\n",
    "# calculate roc curves\n",
    "ns_fpr, ns_tpr, _ = roc_curve(y_test, ns_pred)\n",
    "lr_fpr, lr_tpr, _ = roc_curve(y_test, lr_pred)\n",
    "svm_fpr, svm_tpr, _ = roc_curve(y_test, svm_pred)\n",
    "rf_fpr, rf_tpr, _ = roc_curve(y_test, rf_pred)\n",
    "\n",
    "\n",
    "plt.plot(ns_fpr, ns_tpr, linestyle='--', label='No Skill')\n",
    "plt.plot(lr_fpr, lr_tpr, marker='.', label='Logistic-Reg')\n",
    "plt.plot(svm_fpr, svm_tpr, label='L-SVM')\n",
    "plt.plot(rf_fpr, rf_tpr, label='RF')\n",
    "\n",
    "\n",
    "plt.xlabel('False Positive Rate')\n",
    "plt.ylabel('True Positive Rate')\n",
    "plt.legend()\n",
    "plt.show()"
   ]
  },
  {
   "cell_type": "code",
   "execution_count": null,
   "metadata": {},
   "outputs": [],
   "source": []
  }
 ],
 "metadata": {
  "kernelspec": {
   "display_name": "Python 3",
   "language": "python",
   "name": "python3"
  },
  "language_info": {
   "codemirror_mode": {
    "name": "ipython",
    "version": 3
   },
   "file_extension": ".py",
   "mimetype": "text/x-python",
   "name": "python",
   "nbconvert_exporter": "python",
   "pygments_lexer": "ipython3",
   "version": "3.6.8"
  }
 },
 "nbformat": 4,
 "nbformat_minor": 4
}
