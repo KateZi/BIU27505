{
 "cells": [
  {
   "cell_type": "markdown",
   "metadata": {},
   "source": [
    "# SDA - lecture 9 - Optimization"
   ]
  },
  {
   "cell_type": "code",
   "execution_count": null,
   "metadata": {},
   "outputs": [],
   "source": [
    "import logging\n",
    "logging.basicConfig(level=logging.INFO, format='%(levelname)s: %(asctime)s: %(message)s')\n",
    "\n",
    "import time\n",
    "import math\n",
    "import numpy as np\n",
    "import matplotlib.pyplot as plt\n",
    "\n",
    "%matplotlib inline"
   ]
  },
  {
   "cell_type": "markdown",
   "metadata": {},
   "source": [
    "### Find a minimum of the mystery slow function within a specific range"
   ]
  },
  {
   "cell_type": "code",
   "execution_count": null,
   "metadata": {},
   "outputs": [],
   "source": [
    "def mystery_func(x, slow=True):\n",
    "    if slow:\n",
    "        time.sleep(1)\n",
    "    return x**3-10*x**2+4*x-3"
   ]
  },
  {
   "cell_type": "code",
   "execution_count": null,
   "metadata": {},
   "outputs": [],
   "source": [
    "w = (3 - math.sqrt(5))/2\n",
    "a, c = 0., 10.\n",
    "b = a + (c - a) * w\n",
    "fa, fb, fc = [mystery_func(x, slow=False) for x in [a, b,c]]\n",
    "epsilon = 0.01"
   ]
  },
  {
   "cell_type": "code",
   "execution_count": null,
   "metadata": {},
   "outputs": [],
   "source": [
    "# Draw the mystery function \n",
    "\n",
    "x = np.arange(a, c, epsilon)\n",
    "y = mystery_func(x, slow = False)\n",
    "\n",
    "plt.plot(x,y);"
   ]
  },
  {
   "cell_type": "code",
   "execution_count": null,
   "metadata": {},
   "outputs": [],
   "source": [
    "count = 1\n",
    "while (c-a) > epsilon:\n",
    "\n",
    "    logging.info(f'Iteration {count}: f(A={a:.2f}) = {fa:.2f}, f(B={b:.2f}) = {fb:.2f}, f(C={c:.2f}) = {fc:.2f}') \n",
    "\n",
    "    if (c-b > b-a):\n",
    "        x = c - (c - a) * w\n",
    "        fx = mystery_func(x)\n",
    "        logging.info(f'X between A and B:  f(x={x:.2f}) = {fx:.2f}')\n",
    "        if fx > fb:\n",
    "            logging.info('f(X)>f(B) --> the new bracket is A-B-X')\n",
    "            c, fc = x, fx\n",
    "        else:\n",
    "            logging.info('f(X)<f(B) --> the new bracket is B-X-C')\n",
    "            a, fa = b, fb\n",
    "            b, fb = x, fx\n",
    "    else:\n",
    "        x = a + (c - a) * w\n",
    "        fx = mystery_func(x)\n",
    "        logging.info(f'X between B and C:  f(x={x:.2f}) = {fx:.2f}')\n",
    "        if fx > fb:\n",
    "            logging.info('f(X)>f(B) --> the new bracket is X-B-C')\n",
    "            a, fa = x, fx\n",
    "        else:\n",
    "            logging.info('f(X)<f(B) --> the new bracket is A-X-B')\n",
    "            c, fc = b, fb\n",
    "            b, fb = x, fx\n",
    "\n",
    "    count += 1"
   ]
  },
  {
   "cell_type": "code",
   "execution_count": null,
   "metadata": {},
   "outputs": [],
   "source": []
  }
 ],
 "metadata": {
  "kernelspec": {
   "display_name": "Python 3",
   "language": "python",
   "name": "python3"
  },
  "language_info": {
   "codemirror_mode": {
    "name": "ipython",
    "version": 3
   },
   "file_extension": ".py",
   "mimetype": "text/x-python",
   "name": "python",
   "nbconvert_exporter": "python",
   "pygments_lexer": "ipython3",
   "version": "3.6.8"
  }
 },
 "nbformat": 4,
 "nbformat_minor": 4
}
