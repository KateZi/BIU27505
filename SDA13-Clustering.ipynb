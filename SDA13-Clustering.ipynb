{
 "cells": [
  {
   "cell_type": "markdown",
   "metadata": {},
   "source": [
    "# SDA - lecture 13 - Clustering"
   ]
  },
  {
   "cell_type": "code",
   "execution_count": null,
   "metadata": {},
   "outputs": [],
   "source": [
    "import logging\n",
    "logging.basicConfig(level=logging.INFO, format='%(levelname)s: %(asctime)s: %(message)s')\n",
    "\n",
    "import numpy as np\n",
    "import matplotlib.pyplot as plt\n",
    "import pandas as pd\n",
    "\n",
    "# Use a fixed seed\n",
    "np.random.seed(42)\n",
    "\n",
    "from sklearn.cluster import AgglomerativeClustering, DBSCAN\n",
    "from sklearn import metrics\n",
    "from sklearn.datasets import make_blobs\n",
    "from sklearn.preprocessing import StandardScaler\n",
    "\n",
    "import scipy.cluster.hierarchy as shc\n",
    "from scipy.spatial.distance import cdist\n",
    "\n",
    "%matplotlib inline"
   ]
  },
  {
   "cell_type": "markdown",
   "metadata": {},
   "source": [
    "### Hierarchical clustering using sklearn\n",
    "\n",
    "Author: Yuval Samoilov-Katz\n",
    "\n",
    "Cluster the students based on their grades.\n",
    "\n",
    "Utilize different linkage criteria to generate different hierarchies"
   ]
  },
  {
   "cell_type": "code",
   "execution_count": null,
   "metadata": {},
   "outputs": [],
   "source": [
    "X = np.random.randint(60, 100, size=(10, 10))\n",
    "students = ['Shir', 'Nadav','Yuval','Yarden', 'Noam',\n",
    "            'Yonatan','Adi','Ori', 'Tal','Shuki']\n",
    "df = pd.DataFrame(data=X, columns=students)\n",
    "display(df.head(3))\n",
    "\n",
    "fig, axes = plt.subplots(figsize=(12,8), nrows=1, ncols=3)\n",
    "\n",
    "methods = ['average','complete','ward']\n",
    "exp = ['Average Distances','Maximum Distances','Minimium Variance']\n",
    "\n",
    "# Iterate over different linkage criteria \n",
    "for i,m in enumerate(methods):\n",
    "    dend1 = shc.dendrogram(shc.linkage(X.T, method=m),labels=students , orientation='right',ax=axes[i])\n",
    "    axes[i].title.set_text(f'{exp[i]} Hierarchy')\n",
    "axes[1].set_title(f'{exp[1]} Hierarchy')\n",
    "plt.tight_layout()"
   ]
  },
  {
   "cell_type": "markdown",
   "metadata": {},
   "source": [
    "### DBSCAN using sklearn\n",
    "\n",
    "Author: Yuval Samoilov-Katz\n",
    "\n",
    "* Credit to sklearn demo + few adjustmenrs for exploring epsilons"
   ]
  },
  {
   "cell_type": "code",
   "execution_count": null,
   "metadata": {},
   "outputs": [],
   "source": [
    "# Generate sample data\n",
    "centers = [[1, 1], [-1, -1], [1, -1]]\n",
    "X, labels_true = make_blobs(n_samples=750, centers=centers, cluster_std=0.4,\n",
    "                            random_state=0)\n",
    "\n",
    "X = StandardScaler().fit_transform(X)\n",
    "\n",
    "epes = [.1,.2,.3]\n",
    "\n",
    "for e in epes: \n",
    "    #fit the model\n",
    "    db = DBSCAN(eps=e, min_samples=10).fit(X)\n",
    "    core_samples_mask = np.zeros_like(db.labels_, dtype=bool)\n",
    "    core_samples_mask[db.core_sample_indices_] = True\n",
    "    labels = db.labels_\n",
    "\n",
    "    n_clusters_ = len(set(labels)) - (1 if -1 in labels else 0)\n",
    "    n_noise_ = list(labels).count(-1)\n",
    "    print(f'eplsilon:{e}')\n",
    "    print(f'Estimated number of clusters: {n_clusters_}')\n",
    "    print(f'Estimated number of noise points: {n_noise_}')\n",
    "    print(\"Homogeneity: {:.3f}\".format(metrics.homogeneity_score(labels_true, labels)))\n",
    "\n",
    "    unique_labels = set(labels)\n",
    "    colors = [plt.cm.Spectral(each)\n",
    "              for each in np.linspace(0, 1, len(unique_labels))]\n",
    "\n",
    "    for k, col in zip(unique_labels, colors):\n",
    "        if k == -1:\n",
    "            # Black used for noise.\n",
    "            col = [0, 0, 0, 1]\n",
    "\n",
    "        class_member_mask = (labels == k)\n",
    "\n",
    "        xy = X[class_member_mask & core_samples_mask]\n",
    "        plt.plot(xy[:, 0], xy[:, 1], 'o', markerfacecolor=tuple(col),\n",
    "                 markeredgecolor='k', markersize=14)\n",
    "\n",
    "        xy = X[class_member_mask & ~core_samples_mask]\n",
    "        plt.plot(xy[:, 0], xy[:, 1], 'o', markerfacecolor=tuple(col),\n",
    "                 markeredgecolor='k', markersize=6)\n",
    "\n",
    "    plt.title(f'epsilon:{e}\\nEstimated number of clusters: {n_clusters_}')\n",
    "    plt.show()"
   ]
  },
  {
   "cell_type": "code",
   "execution_count": null,
   "metadata": {},
   "outputs": [],
   "source": []
  }
 ],
 "metadata": {
  "kernelspec": {
   "display_name": "Python 3",
   "language": "python",
   "name": "python3"
  },
  "language_info": {
   "codemirror_mode": {
    "name": "ipython",
    "version": 3
   },
   "file_extension": ".py",
   "mimetype": "text/x-python",
   "name": "python",
   "nbconvert_exporter": "python",
   "pygments_lexer": "ipython3",
   "version": "3.6.8"
  },
  "varInspector": {
   "cols": {
    "lenName": 16,
    "lenType": 16,
    "lenVar": 40
   },
   "kernels_config": {
    "python": {
     "delete_cmd_postfix": "",
     "delete_cmd_prefix": "del ",
     "library": "var_list.py",
     "varRefreshCmd": "print(var_dic_list())"
    },
    "r": {
     "delete_cmd_postfix": ") ",
     "delete_cmd_prefix": "rm(",
     "library": "var_list.r",
     "varRefreshCmd": "cat(var_dic_list()) "
    }
   },
   "oldHeight": 407.891,
   "position": {
    "height": "40px",
    "left": "708.344px",
    "right": "20px",
    "top": "75.9688px",
    "width": "456px"
   },
   "types_to_exclude": [
    "module",
    "function",
    "builtin_function_or_method",
    "instance",
    "_Feature"
   ],
   "varInspector_section_display": "none",
   "window_display": true
  }
 },
 "nbformat": 4,
 "nbformat_minor": 4
}
